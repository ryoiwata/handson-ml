{
 "cells": [
  {
   "cell_type": "markdown",
   "metadata": {},
   "source": [
    "# Chapter 4: Training Models"
   ]
  },
  {
   "cell_type": "code",
   "execution_count": 1,
   "metadata": {},
   "outputs": [],
   "source": [
    "import numpy as np"
   ]
  },
  {
   "cell_type": "code",
   "execution_count": 5,
   "metadata": {},
   "outputs": [],
   "source": [
    "import matplotlib.pyplot as plt"
   ]
  },
  {
   "cell_type": "markdown",
   "metadata": {},
   "source": [
    "## Two ways to train a linear regression model"
   ]
  },
  {
   "cell_type": "markdown",
   "metadata": {},
   "source": [
    "- 1. \"Closed Form\" equation\n",
    "    - Directly computes the model parameters that best fir the model to the training set\n",
    "    - aka, parameters that minimize the cost function over the training set"
   ]
  },
  {
   "cell_type": "markdown",
   "metadata": {},
   "source": [
    "- 2. \"Gradient Descent\"\n",
    "    - Iterative optimazation approach\n",
    "    - Gradually tweaking the parameters to minimize the cost function over the training set\n",
    "    - Eventually converges to the same set of parameters as the first method"
   ]
  },
  {
   "cell_type": "markdown",
   "metadata": {},
   "source": [
    "## Linear Regression"
   ]
  },
  {
   "cell_type": "markdown",
   "metadata": {},
   "source": [
    "## Normal Equation"
   ]
  },
  {
   "cell_type": "markdown",
   "metadata": {},
   "source": [
    "- Creating linear looking data"
   ]
  },
  {
   "cell_type": "code",
   "execution_count": null,
   "metadata": {},
   "outputs": [],
   "source": [
    "np.random.rand()"
   ]
  },
  {
   "cell_type": "code",
   "execution_count": 3,
   "metadata": {},
   "outputs": [],
   "source": [
    "# Random X's from 0 to 2\n",
    "X = 2 * np.random.rand(100, 1)"
   ]
  },
  {
   "cell_type": "code",
   "execution_count": 12,
   "metadata": {},
   "outputs": [],
   "source": [
    "# Slope is 3\n",
    "# X intercept is 4\n",
    "y = 4 + 3 * X + np.random.randn(100, 1)"
   ]
  },
  {
   "cell_type": "code",
   "execution_count": 13,
   "metadata": {},
   "outputs": [
    {
     "data": {
      "text/plain": [
       "<matplotlib.collections.PathCollection at 0x7fa9c71360d0>"
      ]
     },
     "execution_count": 13,
     "metadata": {},
     "output_type": "execute_result"
    },
    {
     "data": {
      "image/png": "[encoded data removed]",
      "text/plain": [
       "<Figure size 432x288 with 1 Axes>"
      ]
     },
     "metadata": {
      "needs_background": "light"
     },
     "output_type": "display_data"
    }
   ],
   "source": [
    "plt.scatter(X, y)"
   ]
  },
  {
   "cell_type": "markdown",
   "metadata": {},
   "source": [
    "- Goal is to compute the slope, or theta"
   ]
  },
  {
   "cell_type": "code",
   "execution_count": 9,
   "metadata": {},
   "outputs": [],
   "source": [
    "X_b = np.c_[np.ones((100, 1)), X]"
   ]
  },
  {
   "cell_type": "code",
   "execution_count": 10,
   "metadata": {},
   "outputs": [
    {
     "data": {
      "text/plain": [
       "array([[1.        , 0.40992689],\n",
       "       [1.        , 0.83689672],\n",
       "       [1.        , 1.65927697],\n",
       "       [1.        , 1.50323238],\n",
       "       [1.        , 0.70735868],\n",
       "       [1.        , 1.81823999],\n",
       "       [1.        , 0.10494639],\n",
       "       [1.        , 1.27281178],\n",
       "       [1.        , 0.66348491],\n",
       "       [1.        , 1.19442315],\n",
       "       [1.        , 1.92886368],\n",
       "       [1.        , 0.85149813],\n",
       "       [1.        , 0.93556041],\n",
       "       [1.        , 0.69672419],\n",
       "       [1.        , 1.22436916],\n",
       "       [1.        , 1.68942068],\n",
       "       [1.        , 0.83052431],\n",
       "       [1.        , 0.96090549],\n",
       "       [1.        , 0.46045643],\n",
       "       [1.        , 0.88329319],\n",
       "       [1.        , 1.20372872],\n",
       "       [1.        , 0.47557669],\n",
       "       [1.        , 0.11445086],\n",
       "       [1.        , 0.01803212],\n",
       "       [1.        , 1.24263118],\n",
       "       [1.        , 1.08866184],\n",
       "       [1.        , 1.10981166],\n",
       "       [1.        , 1.33258479],\n",
       "       [1.        , 1.45800713],\n",
       "       [1.        , 1.34710249],\n",
       "       [1.        , 0.52043549],\n",
       "       [1.        , 0.33804536],\n",
       "       [1.        , 1.29953887],\n",
       "       [1.        , 1.98426496],\n",
       "       [1.        , 1.09152287],\n",
       "       [1.        , 0.5768773 ],\n",
       "       [1.        , 0.37887826],\n",
       "       [1.        , 0.6592578 ],\n",
       "       [1.        , 1.95943337],\n",
       "       [1.        , 0.83937388],\n",
       "       [1.        , 1.51945927],\n",
       "       [1.        , 1.14098501],\n",
       "       [1.        , 1.89812388],\n",
       "       [1.        , 0.85048262],\n",
       "       [1.        , 0.93558184],\n",
       "       [1.        , 1.77552856],\n",
       "       [1.        , 0.60133778],\n",
       "       [1.        , 1.46075339],\n",
       "       [1.        , 1.06198458],\n",
       "       [1.        , 0.85030212],\n",
       "       [1.        , 1.89300357],\n",
       "       [1.        , 1.70410099],\n",
       "       [1.        , 1.61073767],\n",
       "       [1.        , 0.24513699],\n",
       "       [1.        , 0.64482929],\n",
       "       [1.        , 0.5810178 ],\n",
       "       [1.        , 1.28523577],\n",
       "       [1.        , 0.98200016],\n",
       "       [1.        , 0.75533814],\n",
       "       [1.        , 0.08060568],\n",
       "       [1.        , 0.42248018],\n",
       "       [1.        , 1.09055818],\n",
       "       [1.        , 0.00633222],\n",
       "       [1.        , 1.10149291],\n",
       "       [1.        , 1.46858653],\n",
       "       [1.        , 1.48982527],\n",
       "       [1.        , 0.53914378],\n",
       "       [1.        , 1.36611027],\n",
       "       [1.        , 0.61155054],\n",
       "       [1.        , 1.19500742],\n",
       "       [1.        , 0.6364133 ],\n",
       "       [1.        , 1.9582846 ],\n",
       "       [1.        , 1.31974085],\n",
       "       [1.        , 0.61166476],\n",
       "       [1.        , 0.75238313],\n",
       "       [1.        , 1.6154874 ],\n",
       "       [1.        , 0.59236905],\n",
       "       [1.        , 0.95645885],\n",
       "       [1.        , 0.25863668],\n",
       "       [1.        , 1.73832133],\n",
       "       [1.        , 1.01706437],\n",
       "       [1.        , 0.33649902],\n",
       "       [1.        , 0.95052289],\n",
       "       [1.        , 0.76077113],\n",
       "       [1.        , 0.79054598],\n",
       "       [1.        , 1.44293651],\n",
       "       [1.        , 0.10525373],\n",
       "       [1.        , 1.29022074],\n",
       "       [1.        , 0.16851532],\n",
       "       [1.        , 0.27154249],\n",
       "       [1.        , 0.26549777],\n",
       "       [1.        , 0.37218052],\n",
       "       [1.        , 1.37057682],\n",
       "       [1.        , 0.84995344],\n",
       "       [1.        , 0.54170845],\n",
       "       [1.        , 1.20752092],\n",
       "       [1.        , 1.05579458],\n",
       "       [1.        , 1.11012451],\n",
       "       [1.        , 0.94296246],\n",
       "       [1.        , 0.83591697]])"
      ]
     },
     "execution_count": 10,
     "metadata": {},
     "output_type": "execute_result"
    }
   ],
   "source": [
    "X_b"
   ]
  },
  {
   "cell_type": "code",
   "execution_count": null,
   "metadata": {},
   "outputs": [],
   "source": []
  }
 ],
 "metadata": {
  "kernelspec": {
   "display_name": "Python 3",
   "language": "python",
   "name": "python3"
  },
  "language_info": {
   "codemirror_mode": {
    "name": "ipython",
    "version": 3
   },
   "file_extension": ".py",
   "mimetype": "text/x-python",
   "name": "python",
   "nbconvert_exporter": "python",
   "pygments_lexer": "ipython3",
   "version": "3.7.8"
  }
 },
 "nbformat": 4,
 "nbformat_minor": 4
}
