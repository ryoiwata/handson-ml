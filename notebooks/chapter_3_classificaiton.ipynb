{
 "cells": [
  {
   "cell_type": "markdown",
   "metadata": {},
   "source": [
    "# Chapter 3: Classification"
   ]
  },
  {
   "cell_type": "code",
   "execution_count": 112,
   "metadata": {},
   "outputs": [],
   "source": [
    "import numpy as np\n",
    "import pandas as pd\n",
    "import matplotlib"
   ]
  },
  {
   "cell_type": "markdown",
   "metadata": {},
   "source": [
    "## MNIST Classification"
   ]
  },
  {
   "cell_type": "code",
   "execution_count": 2,
   "metadata": {},
   "outputs": [],
   "source": [
    "from sklearn.datasets import fetch_openml"
   ]
  },
  {
   "cell_type": "code",
   "execution_count": 3,
   "metadata": {},
   "outputs": [],
   "source": [
    "mnist = fetch_openml('mnist_784', version=1)"
   ]
  },
  {
   "cell_type": "code",
   "execution_count": 4,
   "metadata": {},
   "outputs": [
    {
     "data": {
      "text/plain": [
       "dict_keys(['data', 'target', 'frame', 'categories', 'feature_names', 'target_names', 'DESCR', 'details', 'url'])"
      ]
     },
     "execution_count": 4,
     "metadata": {},
     "output_type": "execute_result"
    }
   ],
   "source": [
    "mnist.keys()"
   ]
  },
  {
   "cell_type": "markdown",
   "metadata": {},
   "source": [
    "- `DESCR` describes the dataset\n",
    "- `data` array with one row few instance and one column per feature\n",
    "- `target` array with labels"
   ]
  },
  {
   "cell_type": "code",
   "execution_count": 5,
   "metadata": {},
   "outputs": [],
   "source": [
    "input_array, output_array = mnist[\"data\"], mnist[\"target\"]"
   ]
  },
  {
   "cell_type": "code",
   "execution_count": 6,
   "metadata": {},
   "outputs": [
    {
     "data": {
      "text/plain": [
       "(70000, 784)"
      ]
     },
     "execution_count": 6,
     "metadata": {},
     "output_type": "execute_result"
    }
   ],
   "source": [
    "input_array.shape"
   ]
  },
  {
   "cell_type": "code",
   "execution_count": 7,
   "metadata": {},
   "outputs": [
    {
     "data": {
      "text/plain": [
       "(70000,)"
      ]
     },
     "execution_count": 7,
     "metadata": {},
     "output_type": "execute_result"
    }
   ],
   "source": [
    "output_array.shape"
   ]
  },
  {
   "cell_type": "markdown",
   "metadata": {},
   "source": [
    "- 784 features(28 * 28 pixels)\n",
    "- Intensity if from 0 (white) to 255 (black)"
   ]
  },
  {
   "cell_type": "markdown",
   "metadata": {},
   "source": [
    "# Visualizing the Numbers"
   ]
  },
  {
   "cell_type": "code",
   "execution_count": 8,
   "metadata": {},
   "outputs": [],
   "source": [
    "import matplotlib as mpl\n",
    "import matplotlib.pyplot as plt"
   ]
  },
  {
   "cell_type": "code",
   "execution_count": 9,
   "metadata": {},
   "outputs": [],
   "source": [
    "example_num = input_array[42]"
   ]
  },
  {
   "cell_type": "code",
   "execution_count": 10,
   "metadata": {},
   "outputs": [],
   "source": [
    "example_num_image = example_num.reshape(28, 28)"
   ]
  },
  {
   "cell_type": "code",
   "execution_count": 11,
   "metadata": {},
   "outputs": [
    {
     "data": {
      "image/png": "[encoded data removed]",
      "text/plain": [
       "<Figure size 432x288 with 1 Axes>"
      ]
     },
     "metadata": {
      "needs_background": "light"
     },
     "output_type": "display_data"
    }
   ],
   "source": [
    "plt.imshow(example_num_image, cmap= mpl.cm.binary, interpolation=\"nearest\")\n",
    "plt.axis(\"off\")\n",
    "plt.show()"
   ]
  },
  {
   "cell_type": "code",
   "execution_count": 12,
   "metadata": {},
   "outputs": [
    {
     "data": {
      "text/plain": [
       "'7'"
      ]
     },
     "execution_count": 12,
     "metadata": {},
     "output_type": "execute_result"
    }
   ],
   "source": [
    "output_array[42]"
   ]
  },
  {
   "cell_type": "markdown",
   "metadata": {},
   "source": [
    "- Change the labels to numerical data"
   ]
  },
  {
   "cell_type": "code",
   "execution_count": 13,
   "metadata": {},
   "outputs": [],
   "source": [
    "output_array = output_array.astype(np.uint8)"
   ]
  },
  {
   "cell_type": "markdown",
   "metadata": {},
   "source": [
    "# Split the Data"
   ]
  },
  {
   "cell_type": "markdown",
   "metadata": {},
   "source": [
    "- Data is already shuffled "
   ]
  },
  {
   "cell_type": "code",
   "execution_count": 14,
   "metadata": {},
   "outputs": [],
   "source": [
    "X_train, X_test, y_train, y_test = input_array[:60000], input_array[60000:], output_array[:60000], output_array[60000:]"
   ]
  },
  {
   "cell_type": "markdown",
   "metadata": {},
   "source": [
    "# Training a Binary Classifier"
   ]
  },
  {
   "cell_type": "markdown",
   "metadata": {},
   "source": [
    "- Creating an identifier that will predict if an image is `8` or not"
   ]
  },
  {
   "cell_type": "markdown",
   "metadata": {},
   "source": [
    "- Target vectors the classification class"
   ]
  },
  {
   "cell_type": "code",
   "execution_count": 15,
   "metadata": {},
   "outputs": [],
   "source": [
    "y_train_8 = (y_train == 8)"
   ]
  },
  {
   "cell_type": "code",
   "execution_count": 16,
   "metadata": {},
   "outputs": [],
   "source": [
    "y_test_8 = (y_test == 8)"
   ]
  },
  {
   "cell_type": "code",
   "execution_count": 17,
   "metadata": {},
   "outputs": [
    {
     "data": {
      "text/plain": [
       "array([False, False, False, ..., False, False,  True])"
      ]
     },
     "execution_count": 17,
     "metadata": {},
     "output_type": "execute_result"
    }
   ],
   "source": [
    "y_train_8"
   ]
  },
  {
   "cell_type": "code",
   "execution_count": 18,
   "metadata": {},
   "outputs": [
    {
     "data": {
      "text/plain": [
       "array([5, 0, 4, ..., 5, 6, 8], dtype=uint8)"
      ]
     },
     "execution_count": 18,
     "metadata": {},
     "output_type": "execute_result"
    }
   ],
   "source": [
    "y_train"
   ]
  },
  {
   "cell_type": "markdown",
   "metadata": {},
   "source": [
    "- Starting off with Stochastic Gradient Descent\n",
    "    - Can handle very large datasets efficiently\n",
    "    - Deals with training instances independently, one at a time(makes it good for online learning)"
   ]
  },
  {
   "cell_type": "code",
   "execution_count": 19,
   "metadata": {},
   "outputs": [],
   "source": [
    "from sklearn.linear_model import SGDClassifier"
   ]
  },
  {
   "cell_type": "code",
   "execution_count": 20,
   "metadata": {},
   "outputs": [],
   "source": [
    "sgd_clf = SGDClassifier(random_state=42)"
   ]
  },
  {
   "cell_type": "code",
   "execution_count": 21,
   "metadata": {},
   "outputs": [
    {
     "data": {
      "text/plain": [
       "SGDClassifier(random_state=42)"
      ]
     },
     "execution_count": 21,
     "metadata": {},
     "output_type": "execute_result"
    }
   ],
   "source": [
    "sgd_clf.fit(X_train[:1000], y_train_8[:1000])"
   ]
  },
  {
   "cell_type": "markdown",
   "metadata": {},
   "source": [
    "# Performance Measures"
   ]
  },
  {
   "cell_type": "markdown",
   "metadata": {},
   "source": [
    "## Measuring Accuracy Using Cross Validation"
   ]
  },
  {
   "cell_type": "markdown",
   "metadata": {},
   "source": [
    "## My own Cross Validation"
   ]
  },
  {
   "cell_type": "code",
   "execution_count": 22,
   "metadata": {},
   "outputs": [],
   "source": [
    "from sklearn.model_selection import StratifiedKFold\n",
    "from sklearn.base import clone"
   ]
  },
  {
   "cell_type": "markdown",
   "metadata": {},
   "source": [
    "- Stratified Sampling to produce folds that contain representative ratio of each class"
   ]
  },
  {
   "cell_type": "code",
   "execution_count": 23,
   "metadata": {},
   "outputs": [],
   "source": [
    "skfolds = StratifiedKFold(n_splits=3)"
   ]
  },
  {
   "cell_type": "raw",
   "metadata": {},
   "source": [
    "# train and test index are the indexes for the training and testing sets for each fold\n",
    "for train_index, test_index in skfolds.split(X_train, y_train_8):\n",
    "    print(\"train indexes: \", train_index) \n",
    "    print(\"test indexes: \", test_index)\n",
    "    # getting the corresponding data points based on the train/test index\n",
    "    X_train_fold, X_test_fold = X_train[train_index], X_train[test_index]\n",
    "    y_train_fold, y_test_fold = y_train[train_index], y_train[test_index]\n",
    "\n",
    "    # clone of the classifier\n",
    "    clone_clf = clone(sgd_clf)\n",
    "    # training the clone on the training folds\n",
    "    clone_clf.fit(X_train_fold, y_train_fold)\n",
    "    # making predictions based on training data\n",
    "    y_pred = clone_clf.predict(X_test_fold)\n",
    "    # number that is correct\n",
    "    n_correct = sum(y_pred == y_test_fold)\n",
    "    \n",
    "    print(n_correct / len(y_pred))"
   ]
  },
  {
   "cell_type": "markdown",
   "metadata": {},
   "source": [
    "## K-Fold Cross Validation"
   ]
  },
  {
   "cell_type": "code",
   "execution_count": 24,
   "metadata": {},
   "outputs": [],
   "source": [
    "from sklearn.model_selection import cross_val_score"
   ]
  },
  {
   "cell_type": "code",
   "execution_count": 25,
   "metadata": {},
   "outputs": [
    {
     "data": {
      "text/plain": [
       "array([0.93113772, 0.91591592, 0.94594595])"
      ]
     },
     "execution_count": 25,
     "metadata": {},
     "output_type": "execute_result"
    }
   ],
   "source": [
    "cross_val_score(sgd_clf, X_train[:1000], y_train_8[:1000], cv=3, scoring=\"accuracy\")"
   ]
  },
  {
   "cell_type": "markdown",
   "metadata": {},
   "source": [
    "## Check with Dummy Classifier"
   ]
  },
  {
   "cell_type": "code",
   "execution_count": 26,
   "metadata": {},
   "outputs": [],
   "source": [
    "from sklearn.base import BaseEstimator"
   ]
  },
  {
   "cell_type": "code",
   "execution_count": 27,
   "metadata": {},
   "outputs": [],
   "source": [
    "class Never8Classifier(BaseEstimator):\n",
    "    def fit(self, X, y=None):\n",
    "        pass\n",
    "    def predict(self, X):\n",
    "        return np.zeros((len(X), 1), dtype=bool)"
   ]
  },
  {
   "cell_type": "code",
   "execution_count": 28,
   "metadata": {},
   "outputs": [],
   "source": [
    "never_8_clf = Never8Classifier()"
   ]
  },
  {
   "cell_type": "code",
   "execution_count": 29,
   "metadata": {},
   "outputs": [
    {
     "data": {
      "text/plain": [
       "array([0.9039 , 0.9031 , 0.90045])"
      ]
     },
     "execution_count": 29,
     "metadata": {},
     "output_type": "execute_result"
    }
   ],
   "source": [
    "cross_val_score(never_8_clf, X_train, y_train_8, cv=3, scoring=\"accuracy\")"
   ]
  },
  {
   "cell_type": "markdown",
   "metadata": {},
   "source": [
    "## Confusion Matrix"
   ]
  },
  {
   "cell_type": "code",
   "execution_count": 30,
   "metadata": {},
   "outputs": [],
   "source": [
    "from sklearn.model_selection import cross_val_predict"
   ]
  },
  {
   "cell_type": "markdown",
   "metadata": {},
   "source": [
    "- K-fold cross validation that makes a prediction for each test fold(that wasn't seen during training)"
   ]
  },
  {
   "cell_type": "code",
   "execution_count": 31,
   "metadata": {},
   "outputs": [],
   "source": [
    "y_train_pred = cross_val_predict(sgd_clf, X_train, y_train_8, cv=3)"
   ]
  },
  {
   "cell_type": "code",
   "execution_count": 32,
   "metadata": {},
   "outputs": [],
   "source": [
    "from sklearn.metrics import confusion_matrix"
   ]
  },
  {
   "cell_type": "code",
   "execution_count": 33,
   "metadata": {},
   "outputs": [
    {
     "data": {
      "text/plain": [
       "array([[850,  63],\n",
       "       [ 22,  65]])"
      ]
     },
     "execution_count": 33,
     "metadata": {},
     "output_type": "execute_result"
    }
   ],
   "source": [
    "confusion_matrix(y_train_8[:1000], y_train_pred[:1000])"
   ]
  },
  {
   "cell_type": "markdown",
   "metadata": {},
   "source": [
    "                Predicted Negative Predicted Positive\n",
    "Actual Negative True Negative False Positive\n",
    "Actual Positive False Negative True Positive"
   ]
  },
  {
   "cell_type": "code",
   "execution_count": 34,
   "metadata": {},
   "outputs": [],
   "source": [
    "from sklearn.metrics import precision_score, recall_score, f1_score"
   ]
  },
  {
   "cell_type": "code",
   "execution_count": 35,
   "metadata": {},
   "outputs": [
    {
     "data": {
      "text/plain": [
       "0.5078125"
      ]
     },
     "execution_count": 35,
     "metadata": {},
     "output_type": "execute_result"
    }
   ],
   "source": [
    "precision_score(y_train_8[:1000], y_train_pred[:1000])"
   ]
  },
  {
   "cell_type": "code",
   "execution_count": 36,
   "metadata": {},
   "outputs": [
    {
     "data": {
      "text/plain": [
       "0.7471264367816092"
      ]
     },
     "execution_count": 36,
     "metadata": {},
     "output_type": "execute_result"
    }
   ],
   "source": [
    "recall_score(y_train_8[:1000], y_train_pred[:1000])"
   ]
  },
  {
   "cell_type": "code",
   "execution_count": 37,
   "metadata": {},
   "outputs": [
    {
     "data": {
      "text/plain": [
       "0.6046511627906975"
      ]
     },
     "execution_count": 37,
     "metadata": {},
     "output_type": "execute_result"
    }
   ],
   "source": [
    "f1_score(y_train_8[:1000], y_train_pred[:1000])"
   ]
  },
  {
   "cell_type": "markdown",
   "metadata": {},
   "source": [
    "- You can increase precision or recall at the cost of the other. Depends on where you put the threshold to predict a positive case"
   ]
  },
  {
   "cell_type": "markdown",
   "metadata": {},
   "source": [
    "# Changing the Threshold "
   ]
  },
  {
   "cell_type": "markdown",
   "metadata": {},
   "source": [
    "https://stackoverflow.com/questions/20113206/scikit-learn-svc-decision-function-and-predict"
   ]
  },
  {
   "cell_type": "code",
   "execution_count": 38,
   "metadata": {
    "scrolled": true
   },
   "outputs": [],
   "source": [
    "y_scores = sgd_clf.decision_function(X_train)"
   ]
  },
  {
   "cell_type": "code",
   "execution_count": 39,
   "metadata": {
    "scrolled": true
   },
   "outputs": [
    {
     "data": {
      "text/plain": [
       "array([-3114154.31866916, -2494273.3459625 , -1530705.2101543 , ...,\n",
       "       -1010782.52911331, -3277065.85309683,  1376328.61993912])"
      ]
     },
     "execution_count": 39,
     "metadata": {},
     "output_type": "execute_result"
    }
   ],
   "source": [
    "y_scores"
   ]
  },
  {
   "cell_type": "code",
   "execution_count": 40,
   "metadata": {},
   "outputs": [],
   "source": [
    "threshold = 0"
   ]
  },
  {
   "cell_type": "code",
   "execution_count": 41,
   "metadata": {},
   "outputs": [],
   "source": [
    "y_some_digit_pred = (y_scores > threshold)"
   ]
  },
  {
   "cell_type": "code",
   "execution_count": 42,
   "metadata": {},
   "outputs": [
    {
     "data": {
      "text/plain": [
       "array([False, False, False, ..., False, False,  True])"
      ]
     },
     "execution_count": 42,
     "metadata": {},
     "output_type": "execute_result"
    }
   ],
   "source": [
    "y_some_digit_pred"
   ]
  },
  {
   "cell_type": "code",
   "execution_count": 43,
   "metadata": {},
   "outputs": [
    {
     "data": {
      "text/plain": [
       "5604"
      ]
     },
     "execution_count": 43,
     "metadata": {},
     "output_type": "execute_result"
    }
   ],
   "source": [
    "np.sum(y_some_digit_pred)"
   ]
  },
  {
   "cell_type": "markdown",
   "metadata": {},
   "source": [
    "# New Threshold"
   ]
  },
  {
   "cell_type": "code",
   "execution_count": 44,
   "metadata": {},
   "outputs": [],
   "source": [
    "threshold = 20000"
   ]
  },
  {
   "cell_type": "code",
   "execution_count": 45,
   "metadata": {},
   "outputs": [],
   "source": [
    "y_some_digit_pred = (y_scores > threshold)"
   ]
  },
  {
   "cell_type": "code",
   "execution_count": 46,
   "metadata": {},
   "outputs": [
    {
     "data": {
      "text/plain": [
       "array([False, False, False, ..., False, False,  True])"
      ]
     },
     "execution_count": 46,
     "metadata": {},
     "output_type": "execute_result"
    }
   ],
   "source": [
    "y_some_digit_pred"
   ]
  },
  {
   "cell_type": "code",
   "execution_count": 47,
   "metadata": {},
   "outputs": [
    {
     "data": {
      "text/plain": [
       "5483"
      ]
     },
     "execution_count": 47,
     "metadata": {},
     "output_type": "execute_result"
    }
   ],
   "source": [
    "np.sum(y_some_digit_pred)"
   ]
  },
  {
   "cell_type": "markdown",
   "metadata": {},
   "source": [
    "- So raising the threshold decreases the the recall. Because none were predicted as being True"
   ]
  },
  {
   "cell_type": "markdown",
   "metadata": {},
   "source": [
    "## Determining the Threshold to Use"
   ]
  },
  {
   "cell_type": "markdown",
   "metadata": {},
   "source": [
    "- We need to get the decison scores from the model instead of the actual predictions"
   ]
  },
  {
   "cell_type": "code",
   "execution_count": 48,
   "metadata": {},
   "outputs": [],
   "source": [
    "y_scores = cross_val_predict(sgd_clf, X_train[:1000], y_train_8[:1000], cv=3, method=\"decision_function\")"
   ]
  },
  {
   "cell_type": "code",
   "execution_count": 49,
   "metadata": {},
   "outputs": [],
   "source": [
    "from sklearn.metrics import precision_recall_curve"
   ]
  },
  {
   "cell_type": "code",
   "execution_count": 50,
   "metadata": {},
   "outputs": [],
   "source": [
    "precisions, recalls, thresholds = precision_recall_curve(y_train_8[:1000], y_scores[:1000])"
   ]
  },
  {
   "cell_type": "code",
   "execution_count": 51,
   "metadata": {},
   "outputs": [],
   "source": [
    "def plot_precision_recall_vs_threshold(precisions, recalls, thresholds):\n",
    "    plt.plot(thresholds, precisions[:-1], \"b--\", label=\"Precision\")\n",
    "    plt.plot(thresholds, recalls[:-1], \"g-\", label=\"Recall\")\n",
    "    plt.xlabel(\"Threshold\")\n",
    "    plt.legend(loc=\"center left\")\n",
    "    plt.ylim([0,1])"
   ]
  },
  {
   "cell_type": "code",
   "execution_count": 52,
   "metadata": {
    "scrolled": true
   },
   "outputs": [
    {
     "data": {
      "image/png": "[encoded data removed]",
      "text/plain": [
       "<Figure size 432x288 with 1 Axes>"
      ]
     },
     "metadata": {
      "needs_background": "light"
     },
     "output_type": "display_data"
    }
   ],
   "source": [
    "plot_precision_recall_vs_threshold(precisions=precisions, recalls=recalls, thresholds=thresholds)\n",
    "plt.show()"
   ]
  },
  {
   "cell_type": "markdown",
   "metadata": {},
   "source": [
    "# Plotting Precision against Recall"
   ]
  },
  {
   "cell_type": "code",
   "execution_count": 53,
   "metadata": {},
   "outputs": [],
   "source": [
    "def plot_precision_vs_recall(precisions, recalls):\n",
    "    plt.plot(recalls[:-1], precisions[:-1])\n",
    "    plt.xlabel(\"Recall\")\n",
    "    plt.ylabel(\"Precision\")\n",
    "#     plt.ylim([0,1])"
   ]
  },
  {
   "cell_type": "code",
   "execution_count": 54,
   "metadata": {},
   "outputs": [
    {
     "data": {
      "image/png": "[encoded data removed]",
      "text/plain": [
       "<Figure size 432x288 with 1 Axes>"
      ]
     },
     "metadata": {
      "needs_background": "light"
     },
     "output_type": "display_data"
    }
   ],
   "source": [
    "plot_precision_vs_recall(precisions=precisions, recalls=recalls)"
   ]
  },
  {
   "cell_type": "markdown",
   "metadata": {},
   "source": [
    "# Changing the threshold to get an acceptable Precision or Recall"
   ]
  },
  {
   "cell_type": "markdown",
   "metadata": {},
   "source": [
    "- Example, we want a model with 90% percision.\n",
    "- We would go to the threshold curve, and find the threshold where percision is 90. And use that threshold in the model."
   ]
  },
  {
   "cell_type": "code",
   "execution_count": 55,
   "metadata": {},
   "outputs": [],
   "source": [
    "y_train_pred_90 = (y_scores > 5000)"
   ]
  },
  {
   "cell_type": "code",
   "execution_count": 56,
   "metadata": {},
   "outputs": [
    {
     "data": {
      "text/plain": [
       "0.6067415730337079"
      ]
     },
     "execution_count": 56,
     "metadata": {},
     "output_type": "execute_result"
    }
   ],
   "source": [
    "precision_score(y_train_8[:1000], y_train_pred_90[:1000])\n"
   ]
  },
  {
   "cell_type": "code",
   "execution_count": 57,
   "metadata": {},
   "outputs": [
    {
     "data": {
      "text/plain": [
       "0.6206896551724138"
      ]
     },
     "execution_count": 57,
     "metadata": {},
     "output_type": "execute_result"
    }
   ],
   "source": [
    "recall_score(y_train_8[:1000], y_train_pred_90[:1000])\n"
   ]
  },
  {
   "cell_type": "markdown",
   "metadata": {},
   "source": [
    "# ROC Curve"
   ]
  },
  {
   "cell_type": "markdown",
   "metadata": {},
   "source": [
    "- ROC Curve: Reciever Operating Characteristic Curve\n",
    "    - Often used in Binary classification\n",
    "    - Plots the True Positive Rate againest the False Positive Rate\n",
    "    - True Positive Rate: Recall or TP / (TP + FN)\n",
    "    - False Positive Rate: FP / (FP + TN) \n",
    "        - FPR: Ratio of negative instances that are inorrectly classified as positive. 1 - True negative rate. (TNR: negatives instances that are correctly classified as negative. The specificity). \n",
    "    - AKA plots sensitivity(recall) against 1 - specificity"
   ]
  },
  {
   "cell_type": "code",
   "execution_count": 58,
   "metadata": {},
   "outputs": [],
   "source": [
    "from sklearn.metrics import roc_curve"
   ]
  },
  {
   "cell_type": "code",
   "execution_count": 59,
   "metadata": {},
   "outputs": [],
   "source": [
    "fpr, tpr, thresholds = roc_curve(y_train_8[:1000], y_scores[:1000])"
   ]
  },
  {
   "cell_type": "code",
   "execution_count": 60,
   "metadata": {},
   "outputs": [],
   "source": [
    "def plot_roc_curve(fpr, tpr, label=None):\n",
    "    plt.plot(fpr, tpr, linewidth=2, label=label)\n",
    "    plt.plot([0, 1], [0, 1], 'k--')\n",
    "    plt.axis([0, 1, 0, 1])\n",
    "    plt.xlabel(\"False Positive Rate\")\n",
    "    plt.ylabel(\"True Positive Rate\")"
   ]
  },
  {
   "cell_type": "code",
   "execution_count": 61,
   "metadata": {
    "scrolled": true
   },
   "outputs": [
    {
     "data": {
      "image/png": "[encoded data removed]",
      "text/plain": [
       "<Figure size 432x288 with 1 Axes>"
      ]
     },
     "metadata": {
      "needs_background": "light"
     },
     "output_type": "display_data"
    }
   ],
   "source": [
    "plot_roc_curve(fpr, tpr)\n",
    "plt.show()"
   ]
  },
  {
   "cell_type": "markdown",
   "metadata": {},
   "source": [
    "- The higher the recall(TPR), the more false positive are identified. \n",
    "- The dotted line is the ROC curve of a purely random classifier. The goal is to stay as far away as you can from the dotted line. \n",
    "- You can measure the area under the curve. "
   ]
  },
  {
   "cell_type": "code",
   "execution_count": 62,
   "metadata": {},
   "outputs": [],
   "source": [
    "from sklearn.metrics import roc_auc_score"
   ]
  },
  {
   "cell_type": "code",
   "execution_count": 63,
   "metadata": {},
   "outputs": [
    {
     "data": {
      "text/plain": [
       "0.893139957950926"
      ]
     },
     "execution_count": 63,
     "metadata": {},
     "output_type": "execute_result"
    }
   ],
   "source": [
    "roc_auc_score(y_train_8[:1000], y_scores[:1000])"
   ]
  },
  {
   "cell_type": "markdown",
   "metadata": {},
   "source": [
    "- Use the Precision Recall curve when the positive class is rare or when you care more about the false positives than the false negatives.\n",
    "- Use the ROC curve for other instances."
   ]
  },
  {
   "cell_type": "code",
   "execution_count": 64,
   "metadata": {},
   "outputs": [],
   "source": [
    "from sklearn.ensemble import RandomForestClassifier"
   ]
  },
  {
   "cell_type": "markdown",
   "metadata": {},
   "source": [
    "- `RandomForestClassifier` does not have a `decision_function()` but instead has a `predict_proba()` method.\n",
    "- Sklearn classifiers usually have one or the other\n",
    "- `predict_proba()` returns an array containing a row per instance and a column per class, each containing the probability that a given instance belongs to the class"
   ]
  },
  {
   "cell_type": "code",
   "execution_count": 65,
   "metadata": {},
   "outputs": [],
   "source": [
    "forest_clf = RandomForestClassifier(random_state=42)"
   ]
  },
  {
   "cell_type": "code",
   "execution_count": 66,
   "metadata": {},
   "outputs": [],
   "source": [
    "y_probas_forest = cross_val_predict(forest_clf, X_train[:1000], y_train_8[:1000], cv=3,\\\n",
    "                                    method=\"predict_proba\")"
   ]
  },
  {
   "cell_type": "markdown",
   "metadata": {},
   "source": [
    "- Because you need scored for a ROC curve(not probabilities), we can use the positive class's probability as a score"
   ]
  },
  {
   "cell_type": "code",
   "execution_count": 67,
   "metadata": {},
   "outputs": [
    {
     "data": {
      "text/plain": [
       "array([[0.96, 0.04],\n",
       "       [1.  , 0.  ],\n",
       "       [0.98, 0.02],\n",
       "       ...,\n",
       "       [0.94, 0.06],\n",
       "       [0.9 , 0.1 ],\n",
       "       [0.94, 0.06]])"
      ]
     },
     "execution_count": 67,
     "metadata": {},
     "output_type": "execute_result"
    }
   ],
   "source": [
    "y_probas_forest"
   ]
  },
  {
   "cell_type": "code",
   "execution_count": 68,
   "metadata": {},
   "outputs": [],
   "source": [
    "# Probability of a positive class\n",
    "y_scores_forest = y_probas_forest[:, 1]"
   ]
  },
  {
   "cell_type": "code",
   "execution_count": 69,
   "metadata": {
    "scrolled": true
   },
   "outputs": [
    {
     "data": {
      "text/plain": [
       "array([0.04, 0.  , 0.02, 0.  , 0.02, 0.06, 0.05, 0.05, 0.02, 0.05, 0.04,\n",
       "       0.1 , 0.12, 0.03, 0.04, 0.  , 0.04, 0.64, 0.03, 0.04, 0.12, 0.02,\n",
       "       0.03, 0.01, 0.02, 0.33, 0.  , 0.09, 0.13, 0.02, 0.05, 0.59, 0.  ,\n",
       "       0.07, 0.24, 0.03, 0.11, 0.04, 0.03, 0.05, 0.01, 0.46, 0.  , 0.04,\n",
       "       0.09, 0.  , 0.29, 0.09, 0.07, 0.05, 0.03, 0.08, 0.01, 0.03, 0.06,\n",
       "       0.33, 0.09, 0.02, 0.11, 0.01, 0.06, 0.02, 0.12, 0.12, 0.06, 0.2 ,\n",
       "       0.14, 0.04, 0.09, 0.11, 0.05, 0.  , 0.02, 0.06, 0.02, 0.05, 0.22,\n",
       "       0.02, 0.04, 0.02, 0.14, 0.08, 0.05, 0.18, 0.  , 0.49, 0.16, 0.04,\n",
       "       0.05, 0.02, 0.  , 0.  , 0.  , 0.12, 0.35, 0.06, 0.  , 0.6 , 0.04,\n",
       "       0.  , 0.1 , 0.01, 0.02, 0.  , 0.01, 0.08, 0.06, 0.04, 0.1 , 0.08,\n",
       "       0.06, 0.13, 0.  , 0.03, 0.03, 0.03, 0.  , 0.19, 0.11, 0.05, 0.07,\n",
       "       0.12, 0.05, 0.01, 0.02, 0.38, 0.04, 0.05, 0.04, 0.14, 0.03, 0.04,\n",
       "       0.04, 0.01, 0.1 , 0.03, 0.16, 0.41, 0.07, 0.02, 0.01, 0.06, 0.05,\n",
       "       0.09, 0.25, 0.09, 0.57, 0.04, 0.02, 0.06, 0.05, 0.  , 0.05, 0.02,\n",
       "       0.06, 0.02, 0.04, 0.02, 0.04, 0.2 , 0.07, 0.29, 0.04, 0.03, 0.1 ,\n",
       "       0.08, 0.07, 0.01, 0.11, 0.07, 0.02, 0.21, 0.05, 0.1 , 0.02, 0.14,\n",
       "       0.06, 0.07, 0.06, 0.11, 0.03, 0.11, 0.06, 0.05, 0.01, 0.02, 0.04,\n",
       "       0.17, 0.2 , 0.19, 0.07, 0.14, 0.02, 0.01, 0.1 , 0.01, 0.03, 0.7 ,\n",
       "       0.09, 0.15, 0.06, 0.03, 0.34, 0.23, 0.01, 0.01, 0.07, 0.06, 0.03,\n",
       "       0.02, 0.07, 0.07, 0.06, 0.08, 0.01, 0.05, 0.13, 0.02, 0.16, 0.04,\n",
       "       0.13, 0.04, 0.14, 0.  , 0.05, 0.19, 0.02, 0.04, 0.04, 0.07, 0.  ,\n",
       "       0.04, 0.02, 0.02, 0.02, 0.07, 0.11, 0.  , 0.03, 0.02, 0.13, 0.02,\n",
       "       0.09, 0.  , 0.24, 0.68, 0.18, 0.03, 0.06, 0.03, 0.04, 0.04, 0.06,\n",
       "       0.01, 0.11, 0.04, 0.13, 0.03, 0.  , 0.06, 0.02, 0.  , 0.02, 0.  ,\n",
       "       0.02, 0.66, 0.2 , 0.03, 0.03, 0.05, 0.01, 0.04, 0.03, 0.02, 0.15,\n",
       "       0.01, 0.  , 0.04, 0.03, 0.26, 0.  , 0.04, 0.05, 0.04, 0.12, 0.02,\n",
       "       0.2 , 0.03, 0.  , 0.01, 0.05, 0.02, 0.09, 0.02, 0.09, 0.58, 0.01,\n",
       "       0.  , 0.18, 0.02, 0.24, 0.01, 0.01, 0.01, 0.04, 0.02, 0.05, 0.  ,\n",
       "       0.1 , 0.01, 0.  , 0.  , 0.32, 0.  , 0.03, 0.  , 0.18, 0.05, 0.19,\n",
       "       0.  , 0.07, 0.03, 0.01, 0.04, 0.01, 0.06, 0.04, 0.07, 0.13, 0.  ,\n",
       "       0.02, 0.01, 0.08, 0.52, 0.08, 0.04, 0.06, 0.  , 0.01, 0.1 , 0.12,\n",
       "       0.09, 0.  , 0.56, 0.06, 0.1 , 0.11, 0.  , 0.29, 0.  , 0.07, 0.04,\n",
       "       0.21, 0.02, 0.05, 0.13, 0.08, 0.02, 0.09, 0.09, 0.11, 0.29, 0.02,\n",
       "       0.07, 0.01, 0.05, 0.01, 0.  , 0.33, 0.02, 0.04, 0.  , 0.01, 0.04,\n",
       "       0.11, 0.07, 0.27, 0.02, 0.05, 0.07, 0.  , 0.03, 0.08, 0.  , 0.06,\n",
       "       0.12, 0.26, 0.  , 0.01, 0.04, 0.15, 0.07, 0.06, 0.88, 0.06, 0.  ,\n",
       "       0.04, 0.  , 0.03, 0.06, 0.08, 0.01, 0.03, 0.03, 0.09, 0.08, 0.05,\n",
       "       0.01, 0.04, 0.05, 0.04, 0.01, 0.  , 0.02, 0.06, 0.46, 0.03, 0.02,\n",
       "       0.01, 0.02, 0.05, 0.01, 0.01, 0.01, 0.08, 0.06, 0.05, 0.01, 0.05,\n",
       "       0.02, 0.01, 0.  , 0.06, 0.03, 0.05, 0.02, 0.02, 0.05, 0.05, 0.5 ,\n",
       "       0.11, 0.01, 0.03, 0.01, 0.04, 0.86, 0.  , 0.  , 0.08, 0.  , 0.01,\n",
       "       0.01, 0.06, 0.01, 0.  , 0.  , 0.42, 0.07, 0.04, 0.13, 0.04, 0.01,\n",
       "       0.02, 0.04, 0.02, 0.  , 0.  , 0.01, 0.02, 0.24, 0.14, 0.04, 0.05,\n",
       "       0.  , 0.01, 0.05, 0.02, 0.02, 0.02, 0.1 , 0.23, 0.02, 0.03, 0.04,\n",
       "       0.  , 0.24, 0.09, 0.05, 0.13, 0.03, 0.03, 0.22, 0.2 , 0.06, 0.04,\n",
       "       0.04, 0.13, 0.05, 0.04, 0.68, 0.  , 0.05, 0.11, 0.32, 0.02, 0.  ,\n",
       "       0.09, 0.04, 0.12, 0.22, 0.06, 0.18, 0.31, 0.03, 0.01, 0.08, 0.16,\n",
       "       0.3 , 0.05, 0.04, 0.08, 0.02, 0.  , 0.08, 0.04, 0.04, 0.01, 0.  ,\n",
       "       0.12, 0.11, 0.06, 0.02, 0.34, 0.23, 0.04, 0.15, 0.03, 0.04, 0.04,\n",
       "       0.62, 0.1 , 0.03, 0.12, 0.02, 0.01, 0.52, 0.  , 0.05, 0.06, 0.1 ,\n",
       "       0.04, 0.06, 0.09, 0.05, 0.13, 0.04, 0.11, 0.08, 0.12, 0.46, 0.04,\n",
       "       0.1 , 0.  , 0.11, 0.06, 0.06, 0.05, 0.  , 0.08, 0.12, 0.02, 0.82,\n",
       "       0.14, 0.  , 0.11, 0.52, 0.05, 0.02, 0.03, 0.07, 0.03, 0.09, 0.13,\n",
       "       0.04, 0.02, 0.03, 0.04, 0.1 , 0.16, 0.02, 0.02, 0.07, 0.06, 0.03,\n",
       "       0.19, 0.03, 0.06, 0.02, 0.01, 0.  , 0.02, 0.05, 0.11, 0.05, 0.  ,\n",
       "       0.12, 0.02, 0.04, 0.  , 0.07, 0.05, 0.09, 0.03, 0.05, 0.08, 0.27,\n",
       "       0.04, 0.01, 0.05, 0.08, 0.16, 0.04, 0.08, 0.06, 0.  , 0.12, 0.06,\n",
       "       0.21, 0.2 , 0.09, 0.05, 0.08, 0.03, 0.02, 0.  , 0.03, 0.01, 0.04,\n",
       "       0.05, 0.05, 0.01, 0.09, 0.05, 0.05, 0.1 , 0.17, 0.1 , 0.07, 0.01,\n",
       "       0.  , 0.03, 0.  , 0.12, 0.08, 0.  , 0.06, 0.06, 0.07, 0.01, 0.14,\n",
       "       0.01, 0.22, 0.05, 0.06, 0.05, 0.14, 0.03, 0.11, 0.12, 0.  , 0.1 ,\n",
       "       0.09, 0.16, 0.02, 0.  , 0.02, 0.03, 0.03, 0.  , 0.03, 0.06, 0.02,\n",
       "       0.03, 0.  , 0.12, 0.74, 0.02, 0.05, 0.08, 0.01, 0.16, 0.04, 0.14,\n",
       "       0.13, 0.23, 0.02, 0.1 , 0.15, 0.02, 0.06, 0.07, 0.01, 0.02, 0.01,\n",
       "       0.05, 0.76, 0.03, 0.04, 0.22, 0.  , 0.03, 0.06, 0.29, 0.04, 0.06,\n",
       "       0.06, 0.14, 0.04, 0.03, 0.12, 0.07, 0.  , 0.09, 0.04, 0.05, 0.63,\n",
       "       0.18, 0.02, 0.01, 0.08, 0.03, 0.04, 0.07, 0.06, 0.6 , 0.  , 0.2 ,\n",
       "       0.03, 0.  , 0.04, 0.22, 0.03, 0.06, 0.11, 0.09, 0.12, 0.12, 0.01,\n",
       "       0.01, 0.11, 0.01, 0.11, 0.21, 0.02, 0.01, 0.03, 0.47, 0.18, 0.53,\n",
       "       0.04, 0.07, 0.81, 0.03, 0.02, 0.04, 0.08, 0.78, 0.11, 0.07, 0.44,\n",
       "       0.05, 0.09, 0.21, 0.  , 0.03, 0.06, 0.05, 0.86, 0.05, 0.05, 0.  ,\n",
       "       0.11, 0.08, 0.08, 0.23, 0.  , 0.03, 0.02, 0.08, 0.07, 0.01, 0.9 ,\n",
       "       0.2 , 0.01, 0.02, 0.05, 0.28, 0.04, 0.01, 0.08, 0.14, 0.06, 0.02,\n",
       "       0.06, 0.03, 0.06, 0.06, 0.12, 0.  , 0.01, 0.14, 0.05, 0.01, 0.06,\n",
       "       0.05, 0.08, 0.  , 0.7 , 0.03, 0.  , 0.01, 0.18, 0.01, 0.74, 0.02,\n",
       "       0.06, 0.02, 0.  , 0.05, 0.02, 0.17, 0.9 , 0.05, 0.03, 0.02, 0.04,\n",
       "       0.11, 0.13, 0.01, 0.01, 0.09, 0.02, 0.1 , 0.05, 0.05, 0.04, 0.21,\n",
       "       0.06, 0.05, 0.14, 0.04, 0.05, 0.03, 0.04, 0.04, 0.07, 0.02, 0.05,\n",
       "       0.15, 0.08, 0.04, 0.04, 0.04, 0.01, 0.01, 0.42, 0.01, 0.03, 0.  ,\n",
       "       0.03, 0.05, 0.01, 0.03, 0.03, 0.14, 0.17, 0.23, 0.06, 0.04, 0.11,\n",
       "       0.02, 0.06, 0.  , 0.01, 0.07, 0.77, 0.16, 0.09, 0.02, 0.05, 0.13,\n",
       "       0.02, 0.1 , 0.16, 0.12, 0.12, 0.27, 0.02, 0.02, 0.04, 0.01, 0.01,\n",
       "       0.04, 0.08, 0.02, 0.02, 0.05, 0.13, 0.02, 0.06, 0.02, 0.04, 0.1 ,\n",
       "       0.37, 0.02, 0.13, 0.26, 0.07, 0.14, 0.06, 0.17, 0.14, 0.06, 0.75,\n",
       "       0.18, 0.83, 0.02, 0.03, 0.02, 0.16, 0.02, 0.08, 0.03, 0.03, 0.01,\n",
       "       0.19, 0.04, 0.05, 0.11, 0.04, 0.05, 0.01, 0.05, 0.06, 0.03, 0.03,\n",
       "       0.42, 0.09, 0.18, 0.05, 0.14, 0.02, 0.09, 0.18, 0.03, 0.02, 0.09,\n",
       "       0.06, 0.12, 0.12, 0.09, 0.06, 0.02, 0.8 , 0.11, 0.06, 0.09, 0.04,\n",
       "       0.02, 0.02, 0.08, 0.04, 0.51, 0.  , 0.16, 0.09, 0.59, 0.03, 0.02,\n",
       "       0.05, 0.09, 0.03, 0.04, 0.22, 0.03, 0.09, 0.03, 0.04, 0.03, 0.1 ,\n",
       "       0.04, 0.05, 0.02, 0.02, 0.  , 0.18, 0.05, 0.06, 0.1 , 0.06])"
      ]
     },
     "execution_count": 69,
     "metadata": {},
     "output_type": "execute_result"
    }
   ],
   "source": [
    "y_scores_forest"
   ]
  },
  {
   "cell_type": "code",
   "execution_count": 70,
   "metadata": {},
   "outputs": [],
   "source": [
    "fpr_forest, tpr_forest, thresholds_forest = roc_curve(y_train_8[:1000], y_scores_forest[:1000])"
   ]
  },
  {
   "cell_type": "code",
   "execution_count": 71,
   "metadata": {
    "scrolled": true
   },
   "outputs": [
    {
     "data": {
      "image/png": "[encoded data removed]",
      "text/plain": [
       "<Figure size 432x288 with 1 Axes>"
      ]
     },
     "metadata": {
      "needs_background": "light"
     },
     "output_type": "display_data"
    }
   ],
   "source": [
    "plt.plot(fpr, tpr, \"b:\", label=\"SGD\")\n",
    "plot_roc_curve(fpr_forest, tpr_forest, \"Random Forest\")\n",
    "plt.legend(loc=\"lower right\")\n",
    "plt.show()"
   ]
  },
  {
   "cell_type": "code",
   "execution_count": 72,
   "metadata": {},
   "outputs": [
    {
     "data": {
      "text/plain": [
       "0.9702446148229281"
      ]
     },
     "execution_count": 72,
     "metadata": {},
     "output_type": "execute_result"
    }
   ],
   "source": [
    "roc_auc_score(y_train_8[:1000], y_scores_forest[:1000])"
   ]
  },
  {
   "cell_type": "markdown",
   "metadata": {},
   "source": [
    "# Multiclass Classification"
   ]
  },
  {
   "cell_type": "markdown",
   "metadata": {},
   "source": [
    "- Some classifiers can handle multiclasses directly\n",
    "    - Like Random Forest of Naaive Bayes\n",
    "- Others are strictly Binary\n",
    "    - Like Suppoert Vector Machines or Linear classifiers\n",
    "- But there are ways to perform multiclass classification with Binary classifiers"
   ]
  },
  {
   "cell_type": "markdown",
   "metadata": {},
   "source": [
    "- One Verse All Strategy(OVA)\n",
    "    - Make a binary classifier for each digit, then classify the image with the highest score\n",
    "    - Preferred for most binary classification\n",
    "- One versus one\n",
    "    - Making a binary classifier for each pair of digits\n",
    "    - This would require N * (N - 1) / 2 Classifiers\n",
    "    - Advantage is that each classifier needs to be only trained on part of the training set for the two classes its trying to distinguish\n",
    "    - Preferred for larger datasets because it's faster to train on the smaller sets\n",
    "    "
   ]
  },
  {
   "cell_type": "markdown",
   "metadata": {},
   "source": [
    "- Scikit learn will automatically switch to OvA if you use a binary classification task for a multi class classification task\n",
    "    - (unless if you're using Support Vector Machine then it'll switch to OvO)"
   ]
  },
  {
   "cell_type": "code",
   "execution_count": 73,
   "metadata": {},
   "outputs": [
    {
     "data": {
      "text/plain": [
       "(1000, 784)"
      ]
     },
     "execution_count": 73,
     "metadata": {},
     "output_type": "execute_result"
    }
   ],
   "source": [
    "X_train[:1000].shape"
   ]
  },
  {
   "cell_type": "code",
   "execution_count": 74,
   "metadata": {},
   "outputs": [
    {
     "data": {
      "text/plain": [
       "SGDClassifier(random_state=42)"
      ]
     },
     "execution_count": 74,
     "metadata": {},
     "output_type": "execute_result"
    }
   ],
   "source": [
    "sgd_clf.fit(X_train[:100], y_train[:100])"
   ]
  },
  {
   "cell_type": "code",
   "execution_count": 75,
   "metadata": {
    "scrolled": true
   },
   "outputs": [
    {
     "data": {
      "text/plain": [
       "array([5], dtype=uint8)"
      ]
     },
     "execution_count": 75,
     "metadata": {},
     "output_type": "execute_result"
    }
   ],
   "source": [
    "sgd_clf.predict([X_train[999]])"
   ]
  },
  {
   "cell_type": "code",
   "execution_count": 76,
   "metadata": {},
   "outputs": [],
   "source": [
    "scores_101 = sgd_clf.decision_function([X_train[101]])"
   ]
  },
  {
   "cell_type": "code",
   "execution_count": 77,
   "metadata": {},
   "outputs": [
    {
     "data": {
      "text/plain": [
       "7"
      ]
     },
     "execution_count": 77,
     "metadata": {},
     "output_type": "execute_result"
    }
   ],
   "source": [
    "np.argmax(scores_101)"
   ]
  },
  {
   "cell_type": "code",
   "execution_count": 78,
   "metadata": {},
   "outputs": [
    {
     "data": {
      "text/plain": [
       "array([0, 1, 2, 3, 4, 5, 6, 7, 8, 9], dtype=uint8)"
      ]
     },
     "execution_count": 78,
     "metadata": {},
     "output_type": "execute_result"
    }
   ],
   "source": [
    "sgd_clf.classes_"
   ]
  },
  {
   "cell_type": "code",
   "execution_count": 79,
   "metadata": {},
   "outputs": [
    {
     "data": {
      "text/plain": [
       "7"
      ]
     },
     "execution_count": 79,
     "metadata": {},
     "output_type": "execute_result"
    }
   ],
   "source": [
    "sgd_clf.classes_[7]"
   ]
  },
  {
   "cell_type": "markdown",
   "metadata": {},
   "source": [
    "# OneVsOneClassifier or OneVsRestClassifier"
   ]
  },
  {
   "cell_type": "markdown",
   "metadata": {},
   "source": [
    "- You can force sklearn to use one verse all or one verse all. \n",
    "- Just create an instance and pass the binary classifier to the constructor\n"
   ]
  },
  {
   "cell_type": "markdown",
   "metadata": {},
   "source": [
    "- Example: Multiclass classifier using One Vs All strategy with RandomForest classifier"
   ]
  },
  {
   "cell_type": "code",
   "execution_count": 80,
   "metadata": {},
   "outputs": [],
   "source": [
    "from sklearn import svm\n",
    "from sklearn.multiclass import OneVsRestClassifier"
   ]
  },
  {
   "cell_type": "code",
   "execution_count": 81,
   "metadata": {},
   "outputs": [],
   "source": [
    "# Passing the Binary classifier to the constructor\n",
    "ova_svm = OneVsRestClassifier(estimator=svm.SVC())"
   ]
  },
  {
   "cell_type": "code",
   "execution_count": 82,
   "metadata": {},
   "outputs": [
    {
     "data": {
      "text/plain": [
       "OneVsRestClassifier(estimator=SVC())"
      ]
     },
     "execution_count": 82,
     "metadata": {},
     "output_type": "execute_result"
    }
   ],
   "source": [
    "ova_svm.fit(X_train[:1000], y_train[:1000])"
   ]
  },
  {
   "cell_type": "code",
   "execution_count": 83,
   "metadata": {
    "scrolled": true
   },
   "outputs": [
    {
     "data": {
      "text/plain": [
       "array([6], dtype=uint8)"
      ]
     },
     "execution_count": 83,
     "metadata": {},
     "output_type": "execute_result"
    }
   ],
   "source": [
    "ova_svm.predict([X_train[999]])"
   ]
  },
  {
   "cell_type": "markdown",
   "metadata": {},
   "source": [
    "# Random Forest "
   ]
  },
  {
   "cell_type": "markdown",
   "metadata": {},
   "source": [
    "- You don't need to run OvO or OvA with Random forest because it can already classify multiple classes"
   ]
  },
  {
   "cell_type": "code",
   "execution_count": 84,
   "metadata": {},
   "outputs": [
    {
     "data": {
      "text/plain": [
       "RandomForestClassifier(random_state=42)"
      ]
     },
     "execution_count": 84,
     "metadata": {},
     "output_type": "execute_result"
    }
   ],
   "source": [
    "forest_clf.fit(X_train[:1000], y_train[:1000])"
   ]
  },
  {
   "cell_type": "code",
   "execution_count": 85,
   "metadata": {},
   "outputs": [
    {
     "data": {
      "text/plain": [
       "array([7], dtype=uint8)"
      ]
     },
     "execution_count": 85,
     "metadata": {},
     "output_type": "execute_result"
    }
   ],
   "source": [
    "forest_clf.predict([X_train[1001]])"
   ]
  },
  {
   "cell_type": "code",
   "execution_count": 86,
   "metadata": {
    "scrolled": true
   },
   "outputs": [
    {
     "data": {
      "text/plain": [
       "array([[0.  , 0.01, 0.02, 0.05, 0.13, 0.07, 0.02, 0.49, 0.06, 0.15]])"
      ]
     },
     "execution_count": 86,
     "metadata": {},
     "output_type": "execute_result"
    }
   ],
   "source": [
    "# List of probabilities that the classifer assigned to each instance of the class\n",
    "forest_clf.predict_proba([X_train[1001]])"
   ]
  },
  {
   "cell_type": "code",
   "execution_count": 87,
   "metadata": {},
   "outputs": [
    {
     "data": {
      "text/plain": [
       "(60000, 784)"
      ]
     },
     "execution_count": 87,
     "metadata": {},
     "output_type": "execute_result"
    }
   ],
   "source": [
    "X_train.shape"
   ]
  },
  {
   "cell_type": "markdown",
   "metadata": {},
   "source": [
    "## Cross Validation"
   ]
  },
  {
   "cell_type": "code",
   "execution_count": 88,
   "metadata": {},
   "outputs": [
    {
     "data": {
      "text/plain": [
       "array([0.86592681, 0.86978698, 0.85448545])"
      ]
     },
     "execution_count": 88,
     "metadata": {},
     "output_type": "execute_result"
    }
   ],
   "source": [
    "cross_val_score(sgd_clf, X_train[:10000], y_train[:10000], cv=3, scoring=\"accuracy\")"
   ]
  },
  {
   "cell_type": "markdown",
   "metadata": {},
   "source": [
    "## Scaling"
   ]
  },
  {
   "cell_type": "markdown",
   "metadata": {},
   "source": [
    "- Scaling the inputs can increase the accuracy"
   ]
  },
  {
   "cell_type": "code",
   "execution_count": 89,
   "metadata": {},
   "outputs": [],
   "source": [
    "from sklearn.preprocessing import StandardScaler"
   ]
  },
  {
   "cell_type": "code",
   "execution_count": 90,
   "metadata": {},
   "outputs": [],
   "source": [
    "scaler = StandardScaler()"
   ]
  },
  {
   "cell_type": "code",
   "execution_count": 91,
   "metadata": {},
   "outputs": [],
   "source": [
    "X_train_scaled = scaler.fit_transform(X=X_train.astype(np.float64))"
   ]
  },
  {
   "cell_type": "code",
   "execution_count": 92,
   "metadata": {},
   "outputs": [
    {
     "data": {
      "text/plain": [
       "array([0.8983, 0.891 , 0.9018])"
      ]
     },
     "execution_count": 92,
     "metadata": {},
     "output_type": "execute_result"
    }
   ],
   "source": [
    "cross_val_score(estimator=sgd_clf, X=X_train_scaled, y=y_train, cv=3, scoring=\"accuracy\")"
   ]
  },
  {
   "cell_type": "markdown",
   "metadata": {},
   "source": [
    "## Error Analysis"
   ]
  },
  {
   "cell_type": "markdown",
   "metadata": {},
   "source": [
    "- To improve a model, look over the errors that it makes"
   ]
  },
  {
   "cell_type": "markdown",
   "metadata": {},
   "source": [
    "- First place to look is the confusion matrix"
   ]
  },
  {
   "cell_type": "code",
   "execution_count": 93,
   "metadata": {},
   "outputs": [],
   "source": [
    "y_train_pred = cross_val_predict(sgd_clf, X_train_scaled, y_train, cv=3)"
   ]
  },
  {
   "cell_type": "code",
   "execution_count": 94,
   "metadata": {},
   "outputs": [],
   "source": [
    "conf_mx = confusion_matrix(y_train[:1000], y_train_pred[:1000])"
   ]
  },
  {
   "cell_type": "code",
   "execution_count": 95,
   "metadata": {
    "scrolled": true
   },
   "outputs": [
    {
     "data": {
      "text/plain": [
       "array([[ 96,   0,   0,   0,   0,   1,   0,   0,   0,   0],\n",
       "       [  0, 110,   1,   1,   0,   1,   0,   0,   3,   0],\n",
       "       [  1,   2,  83,   2,   2,   2,   1,   1,   5,   0],\n",
       "       [  0,   0,   2,  80,   0,   3,   0,   2,   3,   3],\n",
       "       [  0,   0,   1,   0,  97,   0,   1,   0,   4,   2],\n",
       "       [  0,   0,   0,   8,   2,  68,   1,   0,  10,   3],\n",
       "       [  1,   0,   0,   1,   1,   0,  87,   1,   3,   0],\n",
       "       [  0,   0,   1,   0,   2,   0,   0, 107,   3,   4],\n",
       "       [  0,   1,   0,   1,   0,   2,   0,   0,  83,   0],\n",
       "       [  1,   0,   1,   0,   5,   1,   0,   5,   6,  81]])"
      ]
     },
     "execution_count": 95,
     "metadata": {},
     "output_type": "execute_result"
    }
   ],
   "source": [
    "conf_mx"
   ]
  },
  {
   "cell_type": "code",
   "execution_count": 96,
   "metadata": {
    "scrolled": true
   },
   "outputs": [
    {
     "data": {
      "text/plain": [
       "<matplotlib.image.AxesImage at 0x7f1efc1b7dd0>"
      ]
     },
     "execution_count": 96,
     "metadata": {},
     "output_type": "execute_result"
    },
    {
     "data": {
      "image/png": "[encoded data removed]",
      "text/plain": [
       "<Figure size 288x288 with 1 Axes>"
      ]
     },
     "metadata": {
      "needs_background": "light"
     },
     "output_type": "display_data"
    }
   ],
   "source": [
    "plt.matshow(conf_mx, cmap=plt.cm.gray)"
   ]
  },
  {
   "cell_type": "markdown",
   "metadata": {},
   "source": [
    "- The above only looks at absolute number of errors which may not reflect the actual rates.\n",
    "- So divide each value in the confusion matrix by the number of images in the corresponding class."
   ]
  },
  {
   "cell_type": "code",
   "execution_count": 97,
   "metadata": {},
   "outputs": [],
   "source": [
    "row_sums = conf_mx.sum(axis=1, keepdims=True)"
   ]
  },
  {
   "cell_type": "code",
   "execution_count": 98,
   "metadata": {},
   "outputs": [],
   "source": [
    "norm_conf_mx = conf_mx / row_sums"
   ]
  },
  {
   "cell_type": "markdown",
   "metadata": {},
   "source": [
    "- Filling the diagonal with zeros to keep only the errors"
   ]
  },
  {
   "cell_type": "code",
   "execution_count": 99,
   "metadata": {
    "scrolled": true
   },
   "outputs": [
    {
     "data": {
      "image/png": "[encoded data removed]",
      "text/plain": [
       "<Figure size 288x288 with 1 Axes>"
      ]
     },
     "metadata": {
      "needs_background": "light"
     },
     "output_type": "display_data"
    }
   ],
   "source": [
    "np.fill_diagonal(norm_conf_mx, 0)\n",
    "plt.matshow(norm_conf_mx, cmap=plt.cm.gray)\n",
    "plt.show()"
   ]
  },
  {
   "cell_type": "code",
   "execution_count": 100,
   "metadata": {},
   "outputs": [
    {
     "data": {
      "text/plain": [
       "array([[0.        , 0.        , 0.        , 0.        , 0.        ,\n",
       "        0.01030928, 0.        , 0.        , 0.        , 0.        ],\n",
       "       [0.        , 0.        , 0.00862069, 0.00862069, 0.        ,\n",
       "        0.00862069, 0.        , 0.        , 0.02586207, 0.        ],\n",
       "       [0.01010101, 0.02020202, 0.        , 0.02020202, 0.02020202,\n",
       "        0.02020202, 0.01010101, 0.01010101, 0.05050505, 0.        ],\n",
       "       [0.        , 0.        , 0.02150538, 0.        , 0.        ,\n",
       "        0.03225806, 0.        , 0.02150538, 0.03225806, 0.03225806],\n",
       "       [0.        , 0.        , 0.00952381, 0.        , 0.        ,\n",
       "        0.        , 0.00952381, 0.        , 0.03809524, 0.01904762],\n",
       "       [0.        , 0.        , 0.        , 0.08695652, 0.02173913,\n",
       "        0.        , 0.01086957, 0.        , 0.10869565, 0.0326087 ],\n",
       "       [0.0106383 , 0.        , 0.        , 0.0106383 , 0.0106383 ,\n",
       "        0.        , 0.        , 0.0106383 , 0.03191489, 0.        ],\n",
       "       [0.        , 0.        , 0.00854701, 0.        , 0.01709402,\n",
       "        0.        , 0.        , 0.        , 0.02564103, 0.03418803],\n",
       "       [0.        , 0.01149425, 0.        , 0.01149425, 0.        ,\n",
       "        0.02298851, 0.        , 0.        , 0.        , 0.        ],\n",
       "       [0.01      , 0.        , 0.01      , 0.        , 0.05      ,\n",
       "        0.01      , 0.        , 0.05      , 0.06      , 0.        ]])"
      ]
     },
     "execution_count": 100,
     "metadata": {},
     "output_type": "execute_result"
    }
   ],
   "source": [
    "norm_conf_mx"
   ]
  },
  {
   "cell_type": "markdown",
   "metadata": {},
   "source": [
    "- Rows are actual classes, and columns are predicted classes\n",
    "- Darker is more wrong, and lighter is right"
   ]
  },
  {
   "cell_type": "markdown",
   "metadata": {},
   "source": [
    "- This gives you an idea of where to focus your efforts. \n",
    "- Like focusing on 8 because it is often misclassified. You could get more data, or engineer more features, or preprocess images. "
   ]
  },
  {
   "cell_type": "markdown",
   "metadata": {},
   "source": [
    "- You can also look at individual errors, but it is time consuming"
   ]
  },
  {
   "cell_type": "code",
   "execution_count": 101,
   "metadata": {},
   "outputs": [],
   "source": [
    "cl_a, cl_b = 3, 5"
   ]
  },
  {
   "cell_type": "code",
   "execution_count": 102,
   "metadata": {
    "scrolled": true
   },
   "outputs": [],
   "source": [
    "X_aa = X_train[(y_train == cl_a) & (y_train_pred == cl_b)] "
   ]
  },
  {
   "cell_type": "code",
   "execution_count": 106,
   "metadata": {},
   "outputs": [],
   "source": [
    "X_aa = X_train[(y_train == cl_a) & (y_train_pred == cl_a)]\n",
    "X_ab = X_train[(y_train == cl_a) & (y_train_pred == cl_b)]\n",
    "X_ba = X_train[(y_train == cl_b) & (y_train_pred == cl_a)]\n",
    "X_bb = X_train[(y_train == cl_b) & (y_train_pred == cl_b)]"
   ]
  },
  {
   "cell_type": "code",
   "execution_count": 110,
   "metadata": {},
   "outputs": [],
   "source": [
    "def plot_digits(instances, images_per_row=10, **options):\n",
    "    size = 28\n",
    "    images_per_row = min(len(instances), images_per_row)\n",
    "    images = [instance.reshape(size,size) for instance in instances]\n",
    "    n_rows = (len(instances) - 1) // images_per_row + 1\n",
    "    row_images = []\n",
    "    n_empty = n_rows * images_per_row - len(instances)\n",
    "    images.append(np.zeros((size, size * n_empty)))\n",
    "    for row in range(n_rows):\n",
    "        rimages = images[row * images_per_row : (row + 1) * images_per_row]\n",
    "        row_images.append(np.concatenate(rimages, axis=1))\n",
    "    image = np.concatenate(row_images, axis=0)\n",
    "    plt.imshow(image, cmap = matplotlib.cm.binary, **options)\n",
    "    plt.axis(\"off\")"
   ]
  },
  {
   "cell_type": "code",
   "execution_count": 115,
   "metadata": {
    "scrolled": false
   },
   "outputs": [
    {
     "data": {
      "image/png": "[encoded data removed]",
      "text/plain": [
       "<Figure size 576x576 with 4 Axes>"
      ]
     },
     "metadata": {
      "needs_background": "light"
     },
     "output_type": "display_data"
    }
   ],
   "source": [
    "plt.figure(figsize=(8, 8))\n",
    "plt.subplot(221); plot_digits(X_aa[:25], images_per_row=5)\n",
    "plt.subplot(222); plot_digits(X_ab[:25], images_per_row=5)\n",
    "plt.subplot(223); plot_digits(X_ba[:25], images_per_row=5)\n",
    "plt.subplot(224); plot_digits(X_bb[:25], images_per_row=5)\n",
    "# Left side, classified as 3 # Right side, classified as 5"
   ]
  },
  {
   "cell_type": "markdown",
   "metadata": {},
   "source": [
    "- We can preprocess images so that they are well centered and not rotated too much"
   ]
  },
  {
   "cell_type": "markdown",
   "metadata": {},
   "source": [
    "# Multilabel Classification"
   ]
  },
  {
   "cell_type": "markdown",
   "metadata": {},
   "source": [
    "Currently on page: 100"
   ]
  },
  {
   "cell_type": "code",
   "execution_count": null,
   "metadata": {},
   "outputs": [],
   "source": []
  },
  {
   "cell_type": "code",
   "execution_count": null,
   "metadata": {},
   "outputs": [],
   "source": []
  },
  {
   "cell_type": "code",
   "execution_count": null,
   "metadata": {},
   "outputs": [],
   "source": []
  },
  {
   "cell_type": "code",
   "execution_count": null,
   "metadata": {},
   "outputs": [],
   "source": []
  },
  {
   "cell_type": "code",
   "execution_count": null,
   "metadata": {},
   "outputs": [],
   "source": []
  },
  {
   "cell_type": "code",
   "execution_count": null,
   "metadata": {},
   "outputs": [],
   "source": []
  }
 ],
 "metadata": {
  "kernelspec": {
   "display_name": "Python 3",
   "language": "python",
   "name": "python3"
  },
  "language_info": {
   "codemirror_mode": {
    "name": "ipython",
    "version": 3
   },
   "file_extension": ".py",
   "mimetype": "text/x-python",
   "name": "python",
   "nbconvert_exporter": "python",
   "pygments_lexer": "ipython3",
   "version": "3.7.8"
  }
 },
 "nbformat": 4,
 "nbformat_minor": 4
}
